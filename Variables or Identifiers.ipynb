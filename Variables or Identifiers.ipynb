{
 "cells": [
  {
   "cell_type": "markdown",
   "id": "ef3e6a72",
   "metadata": {},
   "source": [
    "# PYTHON\n",
    "\n",
    "**Python** is a general-purpose interpreted, interactive, object-oriented, and high-level programming language. It was created by Guido van Rossum during 1985- 1990. Like Perl, Python source code is also available under the GNU General Public License (GPL).\n",
    "\n",
    "=============================================================================================\n",
    "\n",
    "\n",
    "# Why to Learn Python?\n",
    "\n",
    "===============================================================================================\n",
    "\n",
    "Python is a high-level, interpreted, interactive and object-oriented scripting language. Python is designed to be highly readable. It uses English keywords frequently where as other languages use punctuation, and it has fewer syntactical constructions than other languages\n",
    "\n",
    "===============================================================================================\n",
    "\n",
    "\n",
    "# History of python\n",
    "\n",
    "================================================================================================\n",
    "\n",
    "=>Python programming lang foundation stone laid in th year 1980\n",
    "\n",
    "=>Python programming lang implementation started in the year 1989\n",
    "\n",
    "=>Python programming lang officially in the year 1991 feb\n",
    "\n",
    "=>Python programming lang developed by \"Guido Van Rossum\".\n",
    "\n",
    "=>Python programming lang developed at CWI institute in Nether Lands\n",
    "\n",
    "=>The ABC Programming lang is predecessor of Python programming lang\n",
    "\n",
    "==================================================================================================\n",
    "\n",
    "\n",
    "# Real Time Applications developed by using PYTHON\n",
    "\n",
    "===================================================================================================\n",
    "\n",
    "1) Web Application Development  (Django,flask,pyramid...etc)\n",
    "\n",
    "2) Gaming Application development\n",
    "\n",
    "3) Artificial  Intekigence (Machine learning and Deep Learing Applications)\n",
    "\n",
    "4) Desktop GUI Applications. \n",
    "\n",
    "5) Image Processing Based Applications\n",
    "\n",
    "6) Text processing Based Applications.\n",
    "\n",
    "7) Business Based Applications\n",
    "\n",
    "8) Education Sector\n",
    "\n",
    "9) Audio and Video based Applications\n",
    "\n",
    "10)Web Scrapping / Harvesting Application\n",
    "\n",
    "11) Data Visuavalization.\n",
    "\n",
    "12) Scientific and Numerical Applications\n",
    "\n",
    "13) Software development\n",
    "\n",
    "14) Operating System development\n",
    "\n",
    "15) CAD and CAM based Applications\n",
    "\n",
    "16)Embedded System \n",
    "\n",
    "17) Console Based Applications.\n",
    "\n",
    "18) Comuter Vision.\n",
    "\n",
    "19) Lanaguage development.\n",
    "\n",
    "20) Automation in testing\n",
    "\n",
    "21) Data Analysis and Data Analaytics\n",
    "\n",
    "22) Development of IOT\n",
    "\n",
    "23) Enterprize Applications\n",
    "\n",
    "=======================================================================================================\n",
    "\n",
    "# Basics of Python\n",
    "\n",
    "=======================================================================================================\n",
    "\n",
    "\n",
    "# Literals and Identifiers\n",
    "\n",
    "\n",
    "**Literals:**\n",
    "\n",
    "=>For every program, we enter inputs and it is stored in main memory. The inputs of the programs are called Literals.\n",
    "\n",
    "=>In Python we have 4 Literals.\n",
    "\n",
    "they are,\n",
    "        \n",
    "        a) Integer Interals\n",
    "        \n",
    "\t\tb) Float Literals\n",
    "        \n",
    "\t\tc) String Literals(Charcaters )\n",
    "        \n",
    "\t\td) Boolean Literals.\n",
    "\t\t\n",
    "==========================================================================================================\n",
    "\n",
    "**Identifiers (or) Variables:**\n",
    "\n",
    "We know that all types of Lietrals / inputs are stored in main memory by allocating sufficient amount of memory space. To process the data which was stored in memory, we must give distinct names and they are making us to identify the values and hence the Distinct Names are called \"Identifiers\".\n",
    "                               \n",
    "\n",
    "**Rules of for Using Variables / Identifers in Python program:**\n",
    "\n",
    "1) The Variable/Identifier name is combination of alphabets,digits,and underscore\n",
    "\n",
    "2)The first letter of Variable/Identifier must start either with Alphabet or underscore\n",
    "\n",
    "3)No Keywords and Special Symbols to be used as Variables.\n",
    "\n",
    "4)Within the Variables special symbols are not allowed except underscore.\n",
    "\n",
    "**Examples:** \n",
    "\n",
    "_ab=123  <--------------------------> valid\n",
    "\n",
    "ab=34    <--------------------------> valid\n",
    "\n",
    "a_b=345  <--------------------------> valid\n",
    "\n",
    "23=4556  <--------------------------> invalid\n",
    "\n",
    "if=34    <--------------------------> invalid\n",
    "\n",
    "int=34   <--------------------------> valid\n",
    "\n",
    "else=54  <--------------------------> invalid\n",
    "\n",
    "#12d=67  <--------------------------> valid\n",
    "\n",
    "$as=34   <--------------------------> invalid\n",
    "\n",
    "ab_bv=11 <--------------------------> valid"
   ]
  },
  {
   "cell_type": "code",
   "execution_count": 1,
   "id": "58e685dd",
   "metadata": {},
   "outputs": [
    {
     "name": "stdout",
     "output_type": "stream",
     "text": [
      "123\n",
      "34\n",
      "345\n",
      "34\n",
      "11\n"
     ]
    }
   ],
   "source": [
    "_ab=123   #valid\n",
    "ab=34     #valid\n",
    "a_b=345    #valid\n",
    "int=34     #valid\n",
    "ab_bv=11    #valid\n",
    "print(_ab)\n",
    "print(ab)\n",
    "print(a_b)\n",
    "print(int)\n",
    "print(ab_bv)\n",
    "# as for the #12d we use # for commenting in python so pvm gonna read it as comment "
   ]
  },
  {
   "cell_type": "code",
   "execution_count": 3,
   "id": "309620bb",
   "metadata": {},
   "outputs": [
    {
     "ename": "SyntaxError",
     "evalue": "cannot assign to literal (<ipython-input-3-2b9494fff87c>, line 1)",
     "output_type": "error",
     "traceback": [
      "\u001b[1;36m  File \u001b[1;32m\"<ipython-input-3-2b9494fff87c>\"\u001b[1;36m, line \u001b[1;32m1\u001b[0m\n\u001b[1;33m    23=2333\u001b[0m\n\u001b[1;37m    ^\u001b[0m\n\u001b[1;31mSyntaxError\u001b[0m\u001b[1;31m:\u001b[0m cannot assign to literal\n"
     ]
    }
   ],
   "source": [
    "23=2333\n",
    "print(23) #invalid"
   ]
  },
  {
   "cell_type": "code",
   "execution_count": 4,
   "id": "cc29b4c1",
   "metadata": {},
   "outputs": [
    {
     "ename": "SyntaxError",
     "evalue": "invalid syntax (<ipython-input-4-44b7909720c2>, line 1)",
     "output_type": "error",
     "traceback": [
      "\u001b[1;36m  File \u001b[1;32m\"<ipython-input-4-44b7909720c2>\"\u001b[1;36m, line \u001b[1;32m1\u001b[0m\n\u001b[1;33m    if=123\u001b[0m\n\u001b[1;37m      ^\u001b[0m\n\u001b[1;31mSyntaxError\u001b[0m\u001b[1;31m:\u001b[0m invalid syntax\n"
     ]
    }
   ],
   "source": [
    "if=123\n",
    "print(if)  "
   ]
  },
  {
   "cell_type": "code",
   "execution_count": 5,
   "id": "de3bedbb",
   "metadata": {},
   "outputs": [
    {
     "ename": "SyntaxError",
     "evalue": "invalid syntax (<ipython-input-5-5de6728f9b81>, line 1)",
     "output_type": "error",
     "traceback": [
      "\u001b[1;36m  File \u001b[1;32m\"<ipython-input-5-5de6728f9b81>\"\u001b[1;36m, line \u001b[1;32m1\u001b[0m\n\u001b[1;33m    else=344\u001b[0m\n\u001b[1;37m    ^\u001b[0m\n\u001b[1;31mSyntaxError\u001b[0m\u001b[1;31m:\u001b[0m invalid syntax\n"
     ]
    }
   ],
   "source": [
    "else=344\n",
    "print(else)"
   ]
  },
  {
   "cell_type": "markdown",
   "id": "7c1b7a5c",
   "metadata": {},
   "source": [
    "in this case we cant use keywords as a variables cause all keywords are not class "
   ]
  },
  {
   "cell_type": "code",
   "execution_count": 6,
   "id": "10a92edf",
   "metadata": {},
   "outputs": [
    {
     "ename": "SyntaxError",
     "evalue": "invalid syntax (<ipython-input-6-bee3eaeda0f6>, line 1)",
     "output_type": "error",
     "traceback": [
      "\u001b[1;36m  File \u001b[1;32m\"<ipython-input-6-bee3eaeda0f6>\"\u001b[1;36m, line \u001b[1;32m1\u001b[0m\n\u001b[1;33m    $ab=123\u001b[0m\n\u001b[1;37m    ^\u001b[0m\n\u001b[1;31mSyntaxError\u001b[0m\u001b[1;31m:\u001b[0m invalid syntax\n"
     ]
    }
   ],
   "source": [
    "$ab=123\n",
    "print($ab)  #we cant use special symbols except(_) in the variables"
   ]
  },
  {
   "cell_type": "code",
   "execution_count": 7,
   "id": "c56fd65f",
   "metadata": {},
   "outputs": [
    {
     "ename": "SyntaxError",
     "evalue": "invalid syntax (<ipython-input-7-d905ff00255d>, line 1)",
     "output_type": "error",
     "traceback": [
      "\u001b[1;36m  File \u001b[1;32m\"<ipython-input-7-d905ff00255d>\"\u001b[1;36m, line \u001b[1;32m1\u001b[0m\n\u001b[1;33m    ab$cb=233\u001b[0m\n\u001b[1;37m      ^\u001b[0m\n\u001b[1;31mSyntaxError\u001b[0m\u001b[1;31m:\u001b[0m invalid syntax\n"
     ]
    }
   ],
   "source": [
    "ab$cb=233\n",
    "print(ab$cb)"
   ]
  },
  {
   "cell_type": "code",
   "execution_count": 8,
   "id": "c8f106eb",
   "metadata": {},
   "outputs": [
    {
     "ename": "SyntaxError",
     "evalue": "cannot assign to operator (<ipython-input-8-3081961ffd47>, line 1)",
     "output_type": "error",
     "traceback": [
      "\u001b[1;36m  File \u001b[1;32m\"<ipython-input-8-3081961ffd47>\"\u001b[1;36m, line \u001b[1;32m1\u001b[0m\n\u001b[1;33m    bc&ad=12\u001b[0m\n\u001b[1;37m    ^\u001b[0m\n\u001b[1;31mSyntaxError\u001b[0m\u001b[1;31m:\u001b[0m cannot assign to operator\n"
     ]
    }
   ],
   "source": [
    "bc&ad=12\n",
    "print(bc&ad)"
   ]
  },
  {
   "cell_type": "markdown",
   "id": "230f9bc9",
   "metadata": {},
   "source": [
    "**So these are the Variables/Identifiers with some Examples**\n",
    "\n",
    "\n",
    "in next video i'll cover DataTypes in Python\n",
    "\n",
    "\n",
    "**--------- T H A N K   Y O U -------------**"
   ]
  },
  {
   "cell_type": "code",
   "execution_count": null,
   "id": "97fe95ce",
   "metadata": {},
   "outputs": [],
   "source": []
  }
 ],
 "metadata": {
  "kernelspec": {
   "display_name": "Python 3",
   "language": "python",
   "name": "python3"
  },
  "language_info": {
   "codemirror_mode": {
    "name": "ipython",
    "version": 3
   },
   "file_extension": ".py",
   "mimetype": "text/x-python",
   "name": "python",
   "nbconvert_exporter": "python",
   "pygments_lexer": "ipython3",
   "version": "3.8.8"
  }
 },
 "nbformat": 4,
 "nbformat_minor": 5
}
