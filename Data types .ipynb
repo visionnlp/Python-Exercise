{
 "cells": [
  {
   "cell_type": "markdown",
   "id": "bdbee994",
   "metadata": {},
   "source": [
    "# Basics of Python\n",
    "\n",
    "=========================================================================================================================\n",
    "\n",
    "**Data Types in Python:**\n",
    "\n",
    "The purpose of data types in any programming language is that to store the inputs / literals in main memory of computer by allocating sufficient amount of memory space.\n",
    "\n",
    "In Python Programming, we have 14 data types, which are classsified into 6 catageries\n",
    "\n",
    "they are,\n",
    "\n",
    "I) Fundamental Catagery Data Types \n",
    "\n",
    "         1) int\n",
    "         2) float\n",
    "         3) bool\n",
    "         4) complex\n",
    "         \n",
    "II) Sequential Catagery Data Types\n",
    "\n",
    "         5) str   \n",
    "\t\t 6) bytes \n",
    "\t\t 7) bytearray\n",
    "\t     8) range\n",
    "          \n",
    "III) List Catagery Data Types (Collections Data Types)\n",
    "\n",
    "         9) list   \n",
    "\t\t10) tuple\n",
    "           \n",
    "IV) Set Catagery Data Types (Collections Data Types)\n",
    "\n",
    "        11) set   \n",
    "\t\t12) frozenset\n",
    "\n",
    "V) Dict Catagery Data Types (Collections Data Types)\n",
    "\n",
    "        13)dict\n",
    "           \n",
    "VI) None Catagery Data Types\n",
    "\n",
    "        14) None\n",
    "        \n",
    "        \n",
    "        \n",
    "        \n",
    "**1)int:**\n",
    "\n",
    "-'int' is one of the pre-defined class  and it is treated as fundamental data type\n",
    "\n",
    "-The purpose of 'int' data type is that to store Integer Data (Or) Integral Values (or) whole       numbers ( Values without decimal places )\n",
    "\n",
    "**Examples:**"
   ]
  },
  {
   "cell_type": "code",
   "execution_count": 1,
   "id": "a77fd61e",
   "metadata": {},
   "outputs": [
    {
     "name": "stdout",
     "output_type": "stream",
     "text": [
      "123 <class 'int'>\n",
      "100 <class 'int'>\n",
      "1 <class 'int'>\n"
     ]
    }
   ],
   "source": [
    "a=123\n",
    "print(a,type(a))\n",
    "b=100\n",
    "print(b,type(b))\n",
    "c=1\n",
    "print(c,type(c))"
   ]
  },
  {
   "cell_type": "markdown",
   "id": "d2e66606",
   "metadata": {},
   "source": [
    "with 'int' data type, we can also store Binary , Octal and Hexa Decimal data also."
   ]
  },
  {
   "cell_type": "code",
   "execution_count": 3,
   "id": "657df8f1",
   "metadata": {},
   "outputs": [
    {
     "name": "stdout",
     "output_type": "stream",
     "text": [
      "10 <class 'int'>\n",
      "83 <class 'int'>\n",
      "171 <class 'int'>\n"
     ]
    }
   ],
   "source": [
    "a=0b1010  #binary data\n",
    "print(a,type(a))\n",
    "b=0o123  #octal data\n",
    "print(b,type(b))\n",
    "c=0xAB  #hexadecimal data\n",
    "print(c,type(c))"
   ]
  },
  {
   "cell_type": "markdown",
   "id": "fff7c5ab",
   "metadata": {},
   "source": [
    "**2)float**\n",
    "\n",
    "-'float' is one of pre-defined class and treated as Fundamental data Type.\n",
    "\n",
    "-The purpose of float data type is that \"To Store Real Constant Values (or) Floating Point Values (Number with Decimal values.\n",
    "\n",
    "**Examples:**"
   ]
  },
  {
   "cell_type": "code",
   "execution_count": 4,
   "id": "2e442b0a",
   "metadata": {},
   "outputs": [
    {
     "name": "stdout",
     "output_type": "stream",
     "text": [
      "77.99 <class 'float'>\n",
      "69.9 <class 'float'>\n",
      "1.1 <class 'float'>\n"
     ]
    }
   ],
   "source": [
    "a=77.99\n",
    "print(a,type(a))\n",
    "b=69.9\n",
    "print(b,type(b))\n",
    "c=1.1\n",
    "print(c,type(c))"
   ]
  },
  {
   "cell_type": "markdown",
   "id": "29aafa07",
   "metadata": {},
   "source": [
    "float data allows us to store Decimal Number System values and this data type never supports Binary, Octal and Hexa Decimal Number System Values."
   ]
  },
  {
   "cell_type": "code",
   "execution_count": 5,
   "id": "333c13a2",
   "metadata": {},
   "outputs": [
    {
     "ename": "SyntaxError",
     "evalue": "invalid syntax (<ipython-input-5-ac0ad3413110>, line 1)",
     "output_type": "error",
     "traceback": [
      "\u001b[1;36m  File \u001b[1;32m\"<ipython-input-5-ac0ad3413110>\"\u001b[1;36m, line \u001b[1;32m1\u001b[0m\n\u001b[1;33m    d=0b1010.0b1010 #you think this will print 10.10 but it will give error ,cause float datatype never support Binary, octal,\u001b[0m\n\u001b[1;37m            ^\u001b[0m\n\u001b[1;31mSyntaxError\u001b[0m\u001b[1;31m:\u001b[0m invalid syntax\n"
     ]
    }
   ],
   "source": [
    "d=0b1010.0b1010 #you think this will print 10.10 but it will give error ,cause float datatype never support Binary, octal,\n",
    "print(d)              #Hexadecimal no"
   ]
  },
  {
   "cell_type": "markdown",
   "id": "2d7039ab",
   "metadata": {},
   "source": [
    "-float data type allows us store the floating point values in the form of Scientific Notation"
   ]
  },
  {
   "cell_type": "code",
   "execution_count": 6,
   "id": "fe7e7822",
   "metadata": {},
   "outputs": [
    {
     "name": "stdout",
     "output_type": "stream",
     "text": [
      "440000.0\n"
     ]
    }
   ],
   "source": [
    "Sn=4.4e5   #here Sn i took for Scientific notation\n",
    "print(Sn)"
   ]
  },
  {
   "cell_type": "markdown",
   "id": "74286337",
   "metadata": {},
   "source": [
    "**3)bool**\n",
    "\t\t\t\n",
    "-'bool' is one of the pre-defined class and treated as Fundamental data type\n",
    "\n",
    "-The purpose of bool data type is that \" To Store True and False values (Logical values)\"\n",
    "\n",
    "**Examples:**"
   ]
  },
  {
   "cell_type": "code",
   "execution_count": 7,
   "id": "8c1f72a6",
   "metadata": {},
   "outputs": [
    {
     "name": "stdout",
     "output_type": "stream",
     "text": [
      "True <class 'bool'>\n",
      "False <class 'bool'>\n"
     ]
    }
   ],
   "source": [
    "a=True\n",
    "print(a,type(a))\n",
    "b=False\n",
    "print(b,type(b))"
   ]
  },
  {
   "cell_type": "code",
   "execution_count": 8,
   "id": "553c4ad2",
   "metadata": {},
   "outputs": [
    {
     "ename": "NameError",
     "evalue": "name 'true' is not defined",
     "output_type": "error",
     "traceback": [
      "\u001b[1;31m---------------------------------------------------------------------------\u001b[0m",
      "\u001b[1;31mNameError\u001b[0m                                 Traceback (most recent call last)",
      "\u001b[1;32m<ipython-input-8-b40ef0bc0e03>\u001b[0m in \u001b[0;36m<module>\u001b[1;34m\u001b[0m\n\u001b[1;32m----> 1\u001b[1;33m \u001b[0ma\u001b[0m\u001b[1;33m=\u001b[0m\u001b[0mtrue\u001b[0m\u001b[1;33m\u001b[0m\u001b[1;33m\u001b[0m\u001b[0m\n\u001b[0m\u001b[0;32m      2\u001b[0m \u001b[0mprint\u001b[0m\u001b[1;33m(\u001b[0m\u001b[0ma\u001b[0m\u001b[1;33m)\u001b[0m\u001b[1;33m\u001b[0m\u001b[1;33m\u001b[0m\u001b[0m\n",
      "\u001b[1;31mNameError\u001b[0m: name 'true' is not defined"
     ]
    }
   ],
   "source": [
    "a=true\n",
    "print(a)  #always use capital 'T' in True and capital 'F' in False\n"
   ]
  },
  {
   "cell_type": "markdown",
   "id": "056dd7de",
   "metadata": {},
   "source": [
    "Internally, The value of True is 1 and the value of False is 0.\n",
    "\n",
    "**Examples:**"
   ]
  },
  {
   "cell_type": "code",
   "execution_count": 9,
   "id": "98aae776",
   "metadata": {},
   "outputs": [
    {
     "name": "stdout",
     "output_type": "stream",
     "text": [
      "1\n",
      "0\n",
      "2\n"
     ]
    }
   ],
   "source": [
    "a=True\n",
    "b=False\n",
    "c=a+b\n",
    "d=a*b\n",
    "e=True+True\n",
    "print(c)\n",
    "print(d)\n",
    "print(e)"
   ]
  },
  {
   "cell_type": "markdown",
   "id": "91e6aa8c",
   "metadata": {},
   "source": [
    "**4)complex**\n",
    "\n",
    "-'complex' is one of the pre-defined class and treated as Fundamental data type\n",
    "\n",
    "-The purpose of complex data type is that \"To Store Complex Values \"\n",
    "\n",
    "-The General Format of Complex Values is  given bellow\n",
    "\n",
    "\t\t\ta+bj  (or)  a-bj \n",
    "            \n",
    "\tHere, \n",
    "            'a' is called Real Part\n",
    "            \n",
    "\t        'b' is called Imaginary Part\n",
    "            \n",
    "\t\t     'j' represents  sqrt(-1)\n",
    "             \n",
    "-here the values of Real and Imaginary parts can be int and float type\n",
    "\n",
    "-Internally The Real part and Imiginary Parts are treated as float type\n",
    "\n",
    "**Examples:**"
   ]
  },
  {
   "cell_type": "code",
   "execution_count": 11,
   "id": "7a30494f",
   "metadata": {},
   "outputs": [
    {
     "name": "stdout",
     "output_type": "stream",
     "text": [
      "(2+3j) <class 'complex'>\n",
      "(2-5j) <class 'complex'>\n",
      "(-4-6j) <class 'complex'>\n",
      "(4.1-4j) <class 'complex'>\n",
      "(2.3-3.6j) <class 'complex'>\n"
     ]
    }
   ],
   "source": [
    "a=2+3j\n",
    "b=2-5j\n",
    "c=-4-6j\n",
    "d=4.1-4j\n",
    "e=2.3-3.6j\n",
    "print(a,type(a))\n",
    "print(b,type(b))\n",
    "print(c,type(c))\n",
    "print(d,type(d))\n",
    "print(e,type(e))"
   ]
  },
  {
   "cell_type": "markdown",
   "id": "bb972915",
   "metadata": {},
   "source": [
    "**5)str**\n",
    "\n",
    "-'str' is one of the pre-defined class and it is treated as Sequence data type.\n",
    "\n",
    "-The purpose of str data type is that \" To store String data \".\n",
    "\n",
    "-Python programming does not contains char data type and character values also stored by using str data type."
   ]
  },
  {
   "cell_type": "code",
   "execution_count": 13,
   "id": "dbbd4693",
   "metadata": {},
   "outputs": [
    {
     "name": "stdout",
     "output_type": "stream",
     "text": [
      "Aniket <class 'str'>\n",
      "Python <class 'str'>\n"
     ]
    }
   ],
   "source": [
    "a='Aniket'\n",
    "b=\"Python\"\n",
    "print(a,type(a))\n",
    "print(b,type(b))"
   ]
  },
  {
   "cell_type": "code",
   "execution_count": 14,
   "id": "c538b6ed",
   "metadata": {},
   "outputs": [
    {
     "ename": "SyntaxError",
     "evalue": "EOL while scanning string literal (<ipython-input-14-41453efbea2c>, line 1)",
     "output_type": "error",
     "traceback": [
      "\u001b[1;36m  File \u001b[1;32m\"<ipython-input-14-41453efbea2c>\"\u001b[1;36m, line \u001b[1;32m1\u001b[0m\n\u001b[1;33m    c='Tadaaaaaa\"\u001b[0m\n\u001b[1;37m                 ^\u001b[0m\n\u001b[1;31mSyntaxError\u001b[0m\u001b[1;31m:\u001b[0m EOL while scanning string literal\n"
     ]
    }
   ],
   "source": [
    "c='Tadaaaaaa\"\n",
    "print(c,type(c))"
   ]
  },
  {
   "cell_type": "markdown",
   "id": "5376b9ba",
   "metadata": {},
   "source": [
    "So the thing with string datatype is when you start with single inverted comma (') then you have to end with it.\n",
    "if you combine both single and dobule inverted commas(' \") then PVM will give EOL error"
   ]
  },
  {
   "cell_type": "markdown",
   "id": "020e01ff",
   "metadata": {},
   "source": [
    "**6)bytes**\n",
    "\n",
    "-'bytes' is on the pre-defined class and treated as Sequential Data Type.\n",
    "\n",
    "-The purpose of bytes data type is that \"To  store Positive Numerical Integer Values ranges from (0,256), ie. It stores from 0 to 255 only.\n",
    "\n",
    "-bytes data types does not containing Symbolic Notation for representing bytes values but we can convert other type of values into bytes value by using  bytes()\n",
    "\n",
    "**Examples:**"
   ]
  },
  {
   "cell_type": "code",
   "execution_count": 17,
   "id": "c9a45d4f",
   "metadata": {},
   "outputs": [
    {
     "name": "stdout",
     "output_type": "stream",
     "text": [
      "[-1, 34, 0, 256, 69] <class 'list'>\n"
     ]
    },
    {
     "ename": "ValueError",
     "evalue": "bytes must be in range(0, 256)",
     "output_type": "error",
     "traceback": [
      "\u001b[1;31m---------------------------------------------------------------------------\u001b[0m",
      "\u001b[1;31mValueError\u001b[0m                                Traceback (most recent call last)",
      "\u001b[1;32m<ipython-input-17-0e22d279a5a1>\u001b[0m in \u001b[0;36m<module>\u001b[1;34m\u001b[0m\n\u001b[0;32m      1\u001b[0m \u001b[0mlst\u001b[0m\u001b[1;33m=\u001b[0m\u001b[1;33m[\u001b[0m\u001b[1;33m-\u001b[0m\u001b[1;36m1\u001b[0m\u001b[1;33m,\u001b[0m\u001b[1;36m34\u001b[0m\u001b[1;33m,\u001b[0m\u001b[1;36m0\u001b[0m\u001b[1;33m,\u001b[0m\u001b[1;36m256\u001b[0m\u001b[1;33m,\u001b[0m\u001b[1;36m69\u001b[0m\u001b[1;33m]\u001b[0m\u001b[1;33m\u001b[0m\u001b[1;33m\u001b[0m\u001b[0m\n\u001b[0;32m      2\u001b[0m \u001b[0mprint\u001b[0m\u001b[1;33m(\u001b[0m\u001b[0mlst\u001b[0m\u001b[1;33m,\u001b[0m\u001b[0mtype\u001b[0m\u001b[1;33m(\u001b[0m\u001b[0mlst\u001b[0m\u001b[1;33m)\u001b[0m\u001b[1;33m)\u001b[0m \u001b[1;31m#for now don't worry about list\u001b[0m\u001b[1;33m\u001b[0m\u001b[1;33m\u001b[0m\u001b[0m\n\u001b[1;32m----> 3\u001b[1;33m \u001b[0mb\u001b[0m\u001b[1;33m=\u001b[0m\u001b[0mbytes\u001b[0m\u001b[1;33m(\u001b[0m\u001b[0mlst\u001b[0m\u001b[1;33m)\u001b[0m\u001b[1;33m\u001b[0m\u001b[1;33m\u001b[0m\u001b[0m\n\u001b[0m\u001b[0;32m      4\u001b[0m \u001b[0mprint\u001b[0m\u001b[1;33m(\u001b[0m\u001b[0mb\u001b[0m\u001b[1;33m,\u001b[0m\u001b[0mtype\u001b[0m\u001b[1;33m(\u001b[0m\u001b[0mb\u001b[0m\u001b[1;33m)\u001b[0m\u001b[1;33m)\u001b[0m\u001b[1;33m\u001b[0m\u001b[1;33m\u001b[0m\u001b[0m\n",
      "\u001b[1;31mValueError\u001b[0m: bytes must be in range(0, 256)"
     ]
    }
   ],
   "source": [
    "lst=[-1,34,0,256,69]\n",
    "print(lst,type(lst)) #for now don't worry about list \n",
    "b=bytes(lst)\n",
    "print(b,type(b))"
   ]
  },
  {
   "cell_type": "markdown",
   "id": "9d9fcf58",
   "metadata": {},
   "source": [
    "So in list we use no like -1 ,34 0,256, and 69. other no are okay but we used -1 and 256. but bytes only support or only stores \n",
    "no from 0-256, excluding 256"
   ]
  },
  {
   "cell_type": "code",
   "execution_count": 18,
   "id": "e2583fb5",
   "metadata": {},
   "outputs": [
    {
     "name": "stdout",
     "output_type": "stream",
     "text": [
      "[1, 23, 69, 255, 99] <class 'list'>\n",
      "b'\\x01\\x17E\\xffc' <class 'bytes'>\n"
     ]
    }
   ],
   "source": [
    "lst=[1,23,69,255,99]\n",
    "print(lst,type(lst))\n",
    "c=bytes(lst)\n",
    "print(c,type(c))"
   ]
  },
  {
   "cell_type": "markdown",
   "id": "3ea3be5e",
   "metadata": {},
   "source": [
    "it will show your values in incripted format to retrive those values we gonna use loop,don't worry about loop for now, i'll explain those later\n",
    "\n",
    "so to retrive our values,"
   ]
  },
  {
   "cell_type": "code",
   "execution_count": 21,
   "id": "63506369",
   "metadata": {},
   "outputs": [
    {
     "name": "stdout",
     "output_type": "stream",
     "text": [
      "1\n",
      "23\n",
      "69\n",
      "255\n",
      "99\n"
     ]
    }
   ],
   "source": [
    "for i in b[:6]:\n",
    "    print(i)"
   ]
  },
  {
   "cell_type": "code",
   "execution_count": 22,
   "id": "98be1331",
   "metadata": {},
   "outputs": [
    {
     "name": "stdout",
     "output_type": "stream",
     "text": [
      "[2, 45, 88, 9, 255] <class 'list'>\n",
      "b'\\x02-X\\t\\xff' <class 'bytes'>\n",
      "2\n",
      "45\n",
      "88\n",
      "9\n",
      "255\n"
     ]
    }
   ],
   "source": [
    "#all in one cell\n",
    "lst=[2,45,88,9,255]\n",
    "print(lst,type(lst))\n",
    "d=bytes(lst)\n",
    "print(d,type(d))\n",
    "for i in d[:6]:\n",
    "    print(i)"
   ]
  },
  {
   "cell_type": "markdown",
   "id": "47b0cd9a",
   "metadata": {},
   "source": [
    "**7)bytearray**\n",
    "\n",
    "-The functionality of bytearray is exactly similar to bytes data types but bytearray data type belongs to mutable where as bytes data type belongs to immutable.\n",
    "\n",
    "-mutable and immutable i'll explain in another video\n",
    "\n",
    "**Examples:**"
   ]
  },
  {
   "cell_type": "code",
   "execution_count": 24,
   "id": "6e09ccc3",
   "metadata": {},
   "outputs": [
    {
     "name": "stdout",
     "output_type": "stream",
     "text": [
      "bytearray(b'\\x17.\\xffXZ') <class 'bytearray'>\n",
      "23\n",
      "46\n",
      "255\n",
      "88\n",
      "90\n"
     ]
    }
   ],
   "source": [
    "lst1=[23,46,255,88,90]\n",
    "b=bytearray(lst1)\n",
    "print(b,type(b))\n",
    "for i in b[:5]:\n",
    "    print(i)"
   ]
  },
  {
   "cell_type": "markdown",
   "id": "77644f3c",
   "metadata": {},
   "source": [
    "**8)range**\n",
    "\n",
    "-'range' is one of the pre-defined class and is treated as sequence data type.\n",
    "\n",
    "-The purpose of range data type is that \" To store Sequence of Numerical Integer values with equal Interval Value \"\n",
    "\n",
    "Syntax 1:-\n",
    "\n",
    "              variable_name = range(value)\n",
    "\n",
    "**Examples:**\n"
   ]
  },
  {
   "cell_type": "code",
   "execution_count": 26,
   "id": "8e04b821",
   "metadata": {},
   "outputs": [
    {
     "name": "stdout",
     "output_type": "stream",
     "text": [
      "range(0, 10) <class 'range'>\n",
      "0\n",
      "1\n",
      "2\n",
      "3\n",
      "4\n",
      "5\n",
      "6\n",
      "7\n",
      "8\n",
      "9\n"
     ]
    }
   ],
   "source": [
    "a=range(10)\n",
    "print(a,type(a))\n",
    "for i in range(10):\n",
    "    print(i)"
   ]
  },
  {
   "cell_type": "markdown",
   "id": "f2366dab",
   "metadata": {},
   "source": [
    "So range dosen't include last no, for example you want range of 0-9 you add value =10 cause it will work as value-1\n",
    "\n",
    "\n",
    "\n",
    "Syntax 2:-\n",
    "\n",
    "          variable_name=range(start,stop)\n",
    "          \n",
    "**Examples:**"
   ]
  },
  {
   "cell_type": "code",
   "execution_count": 28,
   "id": "bb89d317",
   "metadata": {},
   "outputs": [
    {
     "name": "stdout",
     "output_type": "stream",
     "text": [
      "range(2, 11) <class 'range'>\n",
      "2\n",
      "3\n",
      "4\n",
      "5\n",
      "6\n",
      "7\n",
      "8\n",
      "9\n",
      "10\n"
     ]
    }
   ],
   "source": [
    "b=range(2,11)\n",
    "print(b,type(b))\n",
    "for i in b:\n",
    "    print(i)"
   ]
  },
  {
   "cell_type": "markdown",
   "id": "3fcfe94b",
   "metadata": {},
   "source": [
    "Syntax 3:-  \n",
    "\n",
    "          variable_name=range(start,stop,step)\n",
    "          \n",
    "**Examples:**"
   ]
  },
  {
   "cell_type": "code",
   "execution_count": 29,
   "id": "624ae3a8",
   "metadata": {},
   "outputs": [
    {
     "name": "stdout",
     "output_type": "stream",
     "text": [
      "range(1, 11, 2) <class 'range'>\n",
      "1\n",
      "3\n",
      "5\n",
      "7\n",
      "9\n"
     ]
    }
   ],
   "source": [
    "c=range(1,11,2)\n",
    "print(c,type(c))\n",
    "for i in c:\n",
    "    print(i)"
   ]
  },
  {
   "cell_type": "markdown",
   "id": "3e434ae9",
   "metadata": {},
   "source": [
    "these are all the syntaxes for range, use accordingly"
   ]
  },
  {
   "cell_type": "markdown",
   "id": "d528cfba",
   "metadata": {},
   "source": [
    "**9)list**\n",
    "\n",
    "-'list' is one of the pre-defined class and treated as List type data type ( Collections data types )\n",
    "\n",
    "=The purpose of list type data type is that \" To store multiple values either of same or different type or both the data types with Unique and duplicate values \"\n",
    "\n",
    "-The elements of list must be organized in the form of square brackets [ ] and elements must separated by comma.\n",
    "\n",
    "Syntax:             \n",
    "           \n",
    "           variable_name=[val1,val2....val-n]\n",
    "           \n",
    "**Examples:**"
   ]
  },
  {
   "cell_type": "code",
   "execution_count": 30,
   "id": "58cac86f",
   "metadata": {},
   "outputs": [
    {
     "name": "stdout",
     "output_type": "stream",
     "text": [
      "[1, 2, 3, 55, 7788, 98] <class 'list'>\n"
     ]
    }
   ],
   "source": [
    "lst=[1,2,3,55,7788,98]\n",
    "print(lst,type(lst))"
   ]
  },
  {
   "cell_type": "code",
   "execution_count": 32,
   "id": "382c4074",
   "metadata": {},
   "outputs": [
    {
     "name": "stdout",
     "output_type": "stream",
     "text": [
      "[12, -12, 69.69, -34.66, 'WoW', True, (2+3j)] <class 'list'>\n"
     ]
    },
    {
     "data": {
      "text/plain": [
       "7"
      ]
     },
     "execution_count": 32,
     "metadata": {},
     "output_type": "execute_result"
    }
   ],
   "source": [
    "lst1=[12,-12,69.69,-34.66,\"WoW\",True,2+3j]\n",
    "print(lst1,type(lst1))\n",
    "len(lst1)         #we use len() to find the length "
   ]
  },
  {
   "cell_type": "markdown",
   "id": "a0beb381",
   "metadata": {},
   "source": [
    "**Creating Empty list:**\n",
    "\n",
    "Syntax 1:\n",
    "\n",
    "            variable_name = list()\n",
    "            \n",
    "    \n",
    "    \n",
    "Syntax 2:\n",
    "         \n",
    "           variable_name = []\n",
    "           \n",
    " \n",
    "**Examples:**\n",
    "       \n",
    "       "
   ]
  },
  {
   "cell_type": "code",
   "execution_count": 33,
   "id": "132d5fd0",
   "metadata": {},
   "outputs": [
    {
     "name": "stdout",
     "output_type": "stream",
     "text": [
      "[] <class 'list'>\n",
      "[] <class 'list'>\n"
     ]
    }
   ],
   "source": [
    "lst1=list()\n",
    "print(lst1,type(lst1))\n",
    "lst2=[]\n",
    "print(lst2,type(lst2))"
   ]
  },
  {
   "cell_type": "markdown",
   "id": "b7546939",
   "metadata": {},
   "source": [
    "**10)tuple**\n",
    "\n",
    "-'tuple' is one of the pre-defined class and treated as List type data type(Collections data types)\n",
    "\n",
    "-The purpose of tuple type data type is that \" To store multiple values either of same or different type or both the data types with Unique and duplicate values \"\n",
    "\n",
    "-The elements of tuple must be organized in the form of braces ( ) and elements must separated by comma.\n",
    "\n",
    "-Syntax:             \n",
    "\n",
    "                  variable_name=( val1,val2....val-n )\n",
    "                  \n",
    "                  \n",
    "**Examples:**"
   ]
  },
  {
   "cell_type": "code",
   "execution_count": 34,
   "id": "d381efe8",
   "metadata": {},
   "outputs": [
    {
     "name": "stdout",
     "output_type": "stream",
     "text": [
      "(1, 2, 55, 6, 78) <class 'tuple'>\n",
      "(1, 23.44, -2, -33.55, 'taa', False, (2+4j)) <class 'tuple'>\n"
     ]
    }
   ],
   "source": [
    "tpl=(1,2,55,6,78)\n",
    "print(tpl,type(tpl))\n",
    "tpl2=(1,23.44,-2,-33.55,'taa',False,2+4j)\n",
    "print(tpl2,type(tpl2))"
   ]
  },
  {
   "cell_type": "markdown",
   "id": "a738269b",
   "metadata": {},
   "source": [
    "**Creating Empty tuple:**\n",
    "\n",
    "Syntax 1: \n",
    "\n",
    "           variable_name=tuple()\n",
    "           \n",
    "Syntax 2: \n",
    "\n",
    "           variable_name=()\n",
    "           \n",
    "**Examples:**\n",
    "          "
   ]
  },
  {
   "cell_type": "code",
   "execution_count": 35,
   "id": "d17eaa8c",
   "metadata": {},
   "outputs": [
    {
     "name": "stdout",
     "output_type": "stream",
     "text": [
      "() <class 'tuple'>\n",
      "() <class 'tuple'>\n"
     ]
    }
   ],
   "source": [
    "tpl=tuple()\n",
    "print(tpl,type(tpl))\n",
    "tpl2=()\n",
    "print(tpl2,type(tpl2))"
   ]
  },
  {
   "cell_type": "markdown",
   "id": "18cbf0b1",
   "metadata": {},
   "source": [
    "**Converting list into tuple  and vice versa:**"
   ]
  },
  {
   "cell_type": "code",
   "execution_count": 36,
   "id": "3226ffe1",
   "metadata": {},
   "outputs": [
    {
     "name": "stdout",
     "output_type": "stream",
     "text": [
      "[1, 2, 3, 4, 5, 6] <class 'list'>\n",
      "(1, 2, 3, 4, 5, 6) <class 'tuple'>\n"
     ]
    }
   ],
   "source": [
    "lst=[1,2,3,4,5,6]\n",
    "print(lst,type(lst))\n",
    "#converting list into tuple\n",
    "t=tuple(lst)\n",
    "print(t,type(t))"
   ]
  },
  {
   "cell_type": "code",
   "execution_count": 37,
   "id": "1bf62eae",
   "metadata": {},
   "outputs": [
    {
     "name": "stdout",
     "output_type": "stream",
     "text": [
      "(3, 4, 5, 6, 7, 8, 9) <class 'tuple'>\n",
      "[3, 4, 5, 6, 7, 8, 9] <class 'list'>\n"
     ]
    }
   ],
   "source": [
    "tpl=(3,4,5,6,7,8,9)\n",
    "print(tpl,type(tpl))\n",
    "#converting tuple into list\n",
    "l=list(tpl)\n",
    "print(l,type(l))"
   ]
  },
  {
   "cell_type": "markdown",
   "id": "ee4fa928",
   "metadata": {},
   "source": [
    "**11)set**\n",
    "\n",
    "-set' is one of the pre-defined class and treated as set data type\n",
    "\n",
    "-The purpose of set data type is that \"To store multiple values either of same or different type  or both the data types with Unique Values \"\n",
    "\n",
    "-The elements of set must be organized within curly braces and elements must be separated by comma.\n",
    "\n",
    "-An object of set never maintains insertion order\n",
    "\n",
    "**Example:**"
   ]
  },
  {
   "cell_type": "code",
   "execution_count": 38,
   "id": "978284ef",
   "metadata": {},
   "outputs": [
    {
     "name": "stdout",
     "output_type": "stream",
     "text": [
      "{1, 33, 69, 22, 55} <class 'set'>\n"
     ]
    }
   ],
   "source": [
    "S1={1,22,55,33,22,69}\n",
    "print(S1,type(S1))"
   ]
  },
  {
   "cell_type": "markdown",
   "id": "f92169cf",
   "metadata": {},
   "source": [
    "Here,PVM eliminated the duplicate element i.e 22, in set we can store only Unique values\n",
    "\n",
    "**Creating Empty set:**\n",
    "\n",
    "so creating empty set,\n",
    "\n",
    "people may think we use {} for set, so to create empty set we will use like this \n",
    "\n",
    "s1={}  or s1=set{} \n",
    "\n",
    "lets see"
   ]
  },
  {
   "cell_type": "code",
   "execution_count": 39,
   "id": "e3f4e239",
   "metadata": {},
   "outputs": [
    {
     "name": "stdout",
     "output_type": "stream",
     "text": [
      "{} <class 'dict'>\n"
     ]
    }
   ],
   "source": [
    "S1={} \n",
    "print(S1,type(S1))"
   ]
  },
  {
   "cell_type": "markdown",
   "id": "a255afe1",
   "metadata": {},
   "source": [
    "No, its not set its dict type object \n",
    "\n",
    "so to create empty se we use \n",
    "\n",
    "Syntax:\n",
    "   \n",
    "           variable_name=set()\n",
    "           \n",
    "           \n",
    " **Examples:** "
   ]
  },
  {
   "cell_type": "code",
   "execution_count": 40,
   "id": "8c98c530",
   "metadata": {},
   "outputs": [
    {
     "name": "stdout",
     "output_type": "stream",
     "text": [
      "set() <class 'set'>\n"
     ]
    }
   ],
   "source": [
    "S1=set()\n",
    "print(S1,type(S1))"
   ]
  },
  {
   "cell_type": "markdown",
   "id": "65bd0b37",
   "metadata": {},
   "source": [
    "**Conveting list,tuple into set:**"
   ]
  },
  {
   "cell_type": "code",
   "execution_count": 41,
   "id": "9804d59a",
   "metadata": {},
   "outputs": [
    {
     "name": "stdout",
     "output_type": "stream",
     "text": [
      "[2, 44, 5, 77, 889] <class 'list'>\n",
      "(222, 34, 666, 88) <class 'tuple'>\n",
      "{2, 5, 44, 77, 889} <class 'set'>\n",
      "{88, 34, 222, 666} <class 'set'>\n"
     ]
    }
   ],
   "source": [
    "lst=[2,44,5,77,889]\n",
    "tpl=(222,34,666,88)\n",
    "print(lst,type(lst))\n",
    "print(tpl,type(tpl))\n",
    "#convrting\n",
    "S1=set(lst)\n",
    "S2=set(tpl)\n",
    "print(S1,type(S1))\n",
    "print(S2,type(S2))"
   ]
  },
  {
   "cell_type": "markdown",
   "id": "a29709b8",
   "metadata": {},
   "source": [
    "**12)frozenset**\n",
    "\n",
    "Note:- The Functionality of frozenset is exactly similar to the functionality of Set but an object of frozenset belongs to Immutable and an object of set belongs to both Immutable (In the case item assignment) and Mutable (in the case add() )\n",
    "\n",
    "**Examples:**"
   ]
  },
  {
   "cell_type": "code",
   "execution_count": 42,
   "id": "1181cd97",
   "metadata": {},
   "outputs": [
    {
     "name": "stdout",
     "output_type": "stream",
     "text": [
      "[77, 55, 67, 777] <class 'list'>\n",
      "frozenset({777, 67, 77, 55}) <class 'frozenset'>\n"
     ]
    }
   ],
   "source": [
    "lst=[77,55,67,777]\n",
    "print(lst,type(lst))\n",
    "f=frozenset(lst)\n",
    "print(f,type(f))"
   ]
  },
  {
   "cell_type": "markdown",
   "id": "52f1a17b",
   "metadata": {},
   "source": [
    "**13)dict**\n",
    "\n",
    "-In dict data type , we have only one data type called \"dict\"\n",
    "\n",
    "-\"dict\" is one of the pre-defined class and treated as dict data type.\n",
    "\n",
    "-The purpose of dict data type is that \"To store the (Key,Value) \"\n",
    "\n",
    "-In (Key,Value), The values of Key are Unique and values of Value may or may not be unique.\n",
    "\n",
    "-The (Key,Value) data (or) the elements of dict must be organized in the form of curly braces { } and separated by comma\n",
    "\n",
    "**Examples:**"
   ]
  },
  {
   "cell_type": "code",
   "execution_count": 43,
   "id": "cf636153",
   "metadata": {},
   "outputs": [
    {
     "name": "stdout",
     "output_type": "stream",
     "text": [
      "{10: 'Red', 20: 'Yellow', 30: 'pink'} <class 'dict'>\n"
     ]
    }
   ],
   "source": [
    "D1={10:\"Red\",20:\"Yellow\",30:\"pink\"}\n",
    "print(D1,type(D1))"
   ]
  },
  {
   "cell_type": "code",
   "execution_count": 44,
   "id": "b86f2ecd",
   "metadata": {},
   "outputs": [
    {
     "name": "stdout",
     "output_type": "stream",
     "text": [
      "{1: 'java', 2: 'C'} <class 'dict'>\n"
     ]
    }
   ],
   "source": [
    "D2={1:\"Python\",1:\"java\",2:\"C\"}\n",
    "print(D2,type(D2))       #key values must be unique"
   ]
  },
  {
   "cell_type": "code",
   "execution_count": 45,
   "id": "e9e4d919",
   "metadata": {},
   "outputs": [
    {
     "name": "stdout",
     "output_type": "stream",
     "text": [
      "{1: 'python', 2: 'python', 3: 'java'} <class 'dict'>\n"
     ]
    }
   ],
   "source": [
    "D3={1:\"python\",2:\"python\",3:\"java\"}\n",
    "print(D3,type(D3))          # values of value may or may not be unique"
   ]
  },
  {
   "cell_type": "code",
   "execution_count": 46,
   "id": "e6854e8c",
   "metadata": {},
   "outputs": [
    {
     "name": "stdout",
     "output_type": "stream",
     "text": [
      "{'Python': 12, 'Java': 33, 'C': 35} <class 'dict'>\n"
     ]
    }
   ],
   "source": [
    "D4={\"Python\":12,\"Java\":33,\"C\":35}\n",
    "print(D4,type(D4))"
   ]
  },
  {
   "cell_type": "markdown",
   "id": "87ac46a2",
   "metadata": {},
   "source": [
    "**Creating dict :**\n",
    "\n",
    "Syntax:\n",
    "\n",
    "        dictobj[key1]=val1\n",
    "        dictobj[key2]=val2\n",
    "        .\n",
    "        .\n",
    "        .\n",
    "        dictobj[key n]=val n\n",
    "        \n",
    "**Example:**"
   ]
  },
  {
   "cell_type": "code",
   "execution_count": 47,
   "id": "42cd2e00",
   "metadata": {},
   "outputs": [
    {
     "name": "stdout",
     "output_type": "stream",
     "text": [
      "{10: 'Red', 20: 'Yellow', 30: 'Pink'} <class 'dict'>\n"
     ]
    }
   ],
   "source": [
    "D1={}\n",
    "#first we take key values \n",
    "D1[10]=\"Red\"\n",
    "D1[20]=\"Yellow\"\n",
    "D1[30]=\"Pink\"\n",
    "print(D1,type(D1))"
   ]
  },
  {
   "cell_type": "markdown",
   "id": "a7aadfec",
   "metadata": {},
   "source": [
    "**NoneType Datatype**\n",
    "\n",
    "\n",
    "-'NoneType' is one of the pre-defined  class and treated  NoneType   data type\n",
    "\n",
    "-The values of NoneType   data type is None\n",
    "\n",
    "-If we assign the None value to the object then that object memory space collected by Garbage Collector\n",
    "\n",
    "-The value None is not False, space , zero \n",
    "\n",
    "\n",
    "**Examples:**"
   ]
  },
  {
   "cell_type": "code",
   "execution_count": 48,
   "id": "a1670fc5",
   "metadata": {},
   "outputs": [
    {
     "name": "stdout",
     "output_type": "stream",
     "text": [
      "None <class 'NoneType'>\n"
     ]
    }
   ],
   "source": [
    "a=None\n",
    "print(a,type(a))"
   ]
  },
  {
   "cell_type": "code",
   "execution_count": 50,
   "id": "776e3375",
   "metadata": {},
   "outputs": [
    {
     "name": "stdout",
     "output_type": "stream",
     "text": [
      "{10: 'red', 20: 'yellow', 30: 'pinK'} <class 'dict'>\n",
      "red <class 'str'>\n",
      "**************************************************\n",
      "None <class 'NoneType'>\n"
     ]
    }
   ],
   "source": [
    "a={10:\"red\",20:\"yellow\",30:\"pinK\"}\n",
    "print(a,type(a))\n",
    "Ex=a.get(10)\n",
    "print(Ex,type(Ex))\n",
    "print(\"*\"*50)\n",
    "Ex2=a.get(\"red\")\n",
    "print(Ex2,type(Ex2))"
   ]
  },
  {
   "cell_type": "markdown",
   "id": "d1cfe0fe",
   "metadata": {},
   "source": [
    "In next video i'll cover basic operations in python\n",
    "\n",
    "\n",
    "**-------- T H A N K  Y O U -----------**"
   ]
  },
  {
   "cell_type": "code",
   "execution_count": null,
   "id": "200c5003",
   "metadata": {},
   "outputs": [],
   "source": []
  }
 ],
 "metadata": {
  "kernelspec": {
   "display_name": "Python 3",
   "language": "python",
   "name": "python3"
  },
  "language_info": {
   "codemirror_mode": {
    "name": "ipython",
    "version": 3
   },
   "file_extension": ".py",
   "mimetype": "text/x-python",
   "name": "python",
   "nbconvert_exporter": "python",
   "pygments_lexer": "ipython3",
   "version": "3.8.8"
  }
 },
 "nbformat": 4,
 "nbformat_minor": 5
}
