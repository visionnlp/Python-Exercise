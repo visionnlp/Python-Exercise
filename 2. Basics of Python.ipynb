{
 "cells": [
  {
   "cell_type": "markdown",
   "metadata": {},
   "source": [
    "# Where we can do Python practice other than jupyter notebook ??\n",
    "\n",
    "## Online using browser (Google Chrome or Enternet Explorer or Safari)\n",
    "\n",
    "#### 1. use jupyter notebook online\n",
    "- https://colab.research.google.com/\n",
    "\n",
    "\n",
    "#### 2. Alternate python online IDE\n",
    "- https://www.online-python.com/\n",
    "- https://www.online-ide.com/online_c++_ide\n",
    "- https://www.programiz.com/python-programming/online-compiler/\n",
    "- https://www.w3schools.com/python/python_compiler.asp\\\n",
    "\n",
    "## Mobile application (Android)\n",
    "- https://play.google.com/store/apps/details?id=ru.iiec.pydroid3"
   ]
  },
  {
   "cell_type": "markdown",
   "metadata": {},
   "source": [
    "##  Play with markdown\n",
    "- point 1\n",
    "- point 2 \n",
    "\n",
    "**bolt text**\n",
    "\n",
    "[my website](www.visionnlp.com)\n",
    "\n",
    "1. number 1\n",
    "2. number 2\n",
    "\n",
    "y = mx+b"
   ]
  },
  {
   "cell_type": "markdown",
   "metadata": {},
   "source": [
    "## Write your first line in python"
   ]
  },
  {
   "cell_type": "code",
   "execution_count": 2,
   "metadata": {},
   "outputs": [
    {
     "name": "stdout",
     "output_type": "stream",
     "text": [
      "VisionNLP\n"
     ]
    }
   ],
   "source": [
    "# shift + enter\n",
    "print('VisionNLP')"
   ]
  },
  {
   "cell_type": "code",
   "execution_count": 3,
   "metadata": {},
   "outputs": [
    {
     "name": "stdout",
     "output_type": "stream",
     "text": [
      "VisionNLP\n"
     ]
    }
   ],
   "source": [
    "print('''VisionNLP''')"
   ]
  },
  {
   "cell_type": "code",
   "execution_count": 4,
   "metadata": {},
   "outputs": [
    {
     "data": {
      "text/plain": [
       "-9"
      ]
     },
     "execution_count": 4,
     "metadata": {},
     "output_type": "execute_result"
    }
   ],
   "source": [
    "5+7-9-4*3"
   ]
  },
  {
   "cell_type": "markdown",
   "metadata": {
    "id": "ZEiB5oR2qPiN"
   },
   "source": [
    "# Basic of python\n",
    "\n",
    "#### 1. Basic\n",
    "- 1.1 Adding Comment\n",
    "- 1.2 Print function\n",
    "- 1.3 Statements\n",
    "\n",
    "#### 2. Python Identifiers\n",
    "\n",
    "- 2.1 Variable assignment\n",
    "- 2.2 Assigning 'string' (str) value to variable\n",
    "- 2.3 Assigning numerical value to variable\n",
    "- 2.4 We can recall variable name for printing output instead of using print function (only in jupyter notebook)\n",
    "\n",
    "\n"
   ]
  },
  {
   "cell_type": "markdown",
   "metadata": {
    "id": "7NkcmutZqPiO"
   },
   "source": [
    "### 1.1 Adding Comment :\n",
    "- To add comment we can use either  ' # ' in code or direct write down in Markdown . \n",
    "- Also we can use  \"\"\" Hello World  \"\"\" for multiple lines ."
   ]
  },
  {
   "cell_type": "code",
   "execution_count": null,
   "metadata": {
    "id": "qJYNTvtEqPiO"
   },
   "outputs": [],
   "source": [
    "# adding comment "
   ]
  },
  {
   "cell_type": "code",
   "execution_count": null,
   "metadata": {},
   "outputs": [],
   "source": [
    "# Single line comment\n",
    "var1 = 9"
   ]
  },
  {
   "cell_type": "code",
   "execution_count": null,
   "metadata": {},
   "outputs": [],
   "source": [
    "# sub of two numbers\n",
    "6-4"
   ]
  },
  {
   "cell_type": "code",
   "execution_count": null,
   "metadata": {},
   "outputs": [],
   "source": [
    "# Multiple\n",
    "# line\n",
    "# comment\n",
    "val1 = 9"
   ]
  },
  {
   "cell_type": "code",
   "execution_count": 5,
   "metadata": {},
   "outputs": [
    {
     "name": "stdout",
     "output_type": "stream",
     "text": [
      "9\n"
     ]
    }
   ],
   "source": [
    "# addition of two numbers \n",
    "# two numbers should int \n",
    "# real life example of int : no. of family members\n",
    "\n",
    "# 3 + 6\n",
    "print(3+6)"
   ]
  },
  {
   "cell_type": "code",
   "execution_count": null,
   "metadata": {},
   "outputs": [],
   "source": [
    "'''\n",
    "Multiple\n",
    "line\n",
    "comment\n",
    "'''\n",
    "val1 = 9"
   ]
  },
  {
   "cell_type": "markdown",
   "metadata": {
    "id": "DbDrANdpqPiP"
   },
   "source": [
    "### 1.2 Print function :\n",
    "In python if we want call function then we can use simply their name follwed by arguments if exists in parentheses."
   ]
  },
  {
   "cell_type": "code",
   "execution_count": null,
   "metadata": {
    "id": "EcPn2XbkqPiQ"
   },
   "outputs": [],
   "source": [
    "# For example in print function we give what we need to print in parentheses"
   ]
  },
  {
   "cell_type": "code",
   "execution_count": null,
   "metadata": {
    "id": "_JCe7qhTqPiQ",
    "outputId": "3c2f9e53-a793-400a-c6b9-f83d0cdb4566"
   },
   "outputs": [],
   "source": [
    "# Lets run our first python code by printing \"Hello World\" \n",
    "print(\"Hello World\")"
   ]
  },
  {
   "cell_type": "code",
   "execution_count": null,
   "metadata": {
    "id": "RVIPuLBtqPiR",
    "outputId": "7f25778b-9d35-454b-cbe4-4fe051d561f2"
   },
   "outputs": [],
   "source": [
    "print('''Hello World! Let's Learn Python together''')"
   ]
  },
  {
   "cell_type": "code",
   "execution_count": null,
   "metadata": {
    "id": "VvA6qbJPqPiS",
    "outputId": "34ffba3d-f049-4340-c5d2-ba3c775d7ff1"
   },
   "outputs": [],
   "source": [
    "print('Python is the best language')"
   ]
  },
  {
   "cell_type": "code",
   "execution_count": 6,
   "metadata": {},
   "outputs": [
    {
     "name": "stdout",
     "output_type": "stream",
     "text": [
      "--0--- Understand your area of interest – Before starting learning Python, it is important to understand your area of interest so that you remain motivated. ...\n",
      "\n",
      "\n",
      "--0--- Learn the basic Python syntax – It is necessary to learn the basic Python syntax before starting anything. ...\n",
      "\n",
      "\n",
      "--0---Practise coding everyday – It is very important to code every day while learning a new programming language. This establishes consistency and helps you become more familiar with the language. ...\n"
     ]
    }
   ],
   "source": [
    "# print paragraph \n",
    "print('''--0--- Understand your area of interest – Before starting learning Python, it is important to understand your area of interest so that you remain motivated. ...\n",
    "\n",
    "\n",
    "--0--- Learn the basic Python syntax – It is necessary to learn the basic Python syntax before starting anything. ...\n",
    "\n",
    "\n",
    "--0---Practise coding everyday – It is very important to code every day while learning a new programming language. This establishes consistency and helps you become more familiar with the language. ...''')"
   ]
  },
  {
   "cell_type": "code",
   "execution_count": 7,
   "metadata": {},
   "outputs": [
    {
     "name": "stdout",
     "output_type": "stream",
     "text": [
      "6 9\n"
     ]
    }
   ],
   "source": [
    "# print multiple arguments \n",
    "print(2*3, 4+5)"
   ]
  },
  {
   "cell_type": "code",
   "execution_count": 8,
   "metadata": {},
   "outputs": [
    {
     "name": "stdout",
     "output_type": "stream",
     "text": [
      "numbers  5 8 \n",
      " --------------- \n",
      " addition of two numbers:  13 \n",
      " --------------- \n",
      " multipliation:  40\n"
     ]
    }
   ],
   "source": [
    "# print string/explaination and operations\n",
    "\n",
    "print(\"numbers \", 5 ,8 ,  '\\n', '---------------' , '\\n' , 'addition of two numbers: ', 5+8 , '\\n', '---------------' , '\\n' ,  'multipliation: ', 5*8 )"
   ]
  },
  {
   "cell_type": "markdown",
   "metadata": {},
   "source": [
    "### 1.3 statements"
   ]
  },
  {
   "cell_type": "code",
   "execution_count": null,
   "metadata": {},
   "outputs": [],
   "source": [
    "# Single line statement\n",
    "p1 = 10 + 20\n",
    "p1"
   ]
  },
  {
   "cell_type": "code",
   "execution_count": null,
   "metadata": {},
   "outputs": [],
   "source": [
    "# Multiple line statement\n",
    "p1 = 20 + 30 + 40 + 50 \\\n",
    "     + 70 + 80\n",
    "p1"
   ]
  },
  {
   "cell_type": "code",
   "execution_count": 9,
   "metadata": {},
   "outputs": [
    {
     "data": {
      "text/plain": [
       "6666666666666666666666666666666666666666666666666733333333333333333333333333333392"
      ]
     },
     "execution_count": 9,
     "metadata": {},
     "output_type": "execute_result"
    }
   ],
   "source": [
    "# Single line statement\n",
    "p1 = 10 + 20 + 30 + 6666666666666666666666666666666666666666666666666666666666666666666666666666666666+ \\\n",
    "66666666666666666666666666666666\n",
    "p1"
   ]
  },
  {
   "cell_type": "markdown",
   "metadata": {
    "id": "jyRdVy1XqPiS"
   },
   "source": [
    "### 2. Python Identifiers :\n",
    "It is a identifier/name used to define a variable , function , class. It is used to make difference between entities. "
   ]
  },
  {
   "cell_type": "markdown",
   "metadata": {
    "id": "8zasyrvFqPiT"
   },
   "source": [
    "###### We have to take care of following things while writing identifiers\n",
    "1. It can be of any length . \n",
    "2. It can be combination of lower cases (a-z) , upper cases (A-Z) and digits (0-9).\n",
    "3. It can't be start with digit.\n",
    "4. It can't be include special symbols like { !, @, #, $ , % }, etc\n",
    "5. We can use '_' i.e underscore in identifire for attaching two strings or one string and one number.\n",
    "6. We can't give space between letters, words or between letter and digit.\n",
    "7. We can't use python keywords as a python identifier\n",
    "\n",
    "-- Python keywords :\n",
    "\n",
    "**in , and , or , if , else , elif , def , while , break , True , False , etc .**\n",
    "\n",
    "python keywords are used to define the syntax and structure of the Python language."
   ]
  },
  {
   "cell_type": "markdown",
   "metadata": {
    "id": "iYomYHgmqPiT"
   },
   "source": [
    "## Examples of python identifiers"
   ]
  },
  {
   "cell_type": "markdown",
   "metadata": {
    "id": "z0uq715eqPiU"
   },
   "source": [
    "We can write identifier of any length like \n",
    "- myname\n",
    "- myvillage\n",
    "- myschoolmarks\n"
   ]
  },
  {
   "cell_type": "markdown",
   "metadata": {
    "id": "oQgU98ibqPiV"
   },
   "source": [
    "We can combine letters and words while writing identifiers\n",
    "- Myname \n",
    "- Mybirth19Nov\n",
    "- myfavNo7"
   ]
  },
  {
   "cell_type": "markdown",
   "metadata": {
    "id": "n4NSvM8pqPiW"
   },
   "source": [
    "Identifiers using underscore  \n",
    "- my_name \n",
    "- my_number \n",
    "- my_village"
   ]
  },
  {
   "cell_type": "markdown",
   "metadata": {
    "id": "Fp0JylB4qPiW"
   },
   "source": [
    "We can't start our identifier by digit\n",
    "- 1stvariable \n",
    "- 19thnumber\n"
   ]
  },
  {
   "cell_type": "markdown",
   "metadata": {
    "id": "D_Nm-30qqPiX"
   },
   "source": [
    "We can't include any special symbol at any position while writing identifier \n",
    "- name@\n",
    "- hello!\n",
    "- time@2pm\n",
    "- $rupees\n",
    "- #brand "
   ]
  },
  {
   "cell_type": "markdown",
   "metadata": {
    "id": "L6ONi4zgqPiX"
   },
   "source": [
    "We can't write identifier using space between characcters \n",
    "- my name \n",
    "- my number \n",
    "- my village "
   ]
  },
  {
   "cell_type": "markdown",
   "metadata": {
    "id": "wCyfbUSoqPiX"
   },
   "source": [
    "### 2.1 Variable assignment : "
   ]
  },
  {
   "cell_type": "markdown",
   "metadata": {
    "id": "c2KTZUSHqPiX"
   },
   "source": [
    "Variable is used to store value and we use '=' i.e. assignment operator to assign value to it. "
   ]
  },
  {
   "cell_type": "markdown",
   "metadata": {
    "id": "yHiNe_bXqPiY"
   },
   "source": [
    "#### 2.2  Assigning 'string' (str) value to variable"
   ]
  },
  {
   "cell_type": "code",
   "execution_count": 10,
   "metadata": {
    "id": "IvOHFNIIqPiY",
    "outputId": "51365f7a-cde3-4abc-cc00-6b4f349c9137"
   },
   "outputs": [
    {
     "name": "stdout",
     "output_type": "stream",
     "text": [
      "shweta\n"
     ]
    }
   ],
   "source": [
    "# assign shweta value to my_name variable\n",
    "my_name = \"shweta\"\n",
    "print(my_name)"
   ]
  },
  {
   "cell_type": "code",
   "execution_count": 11,
   "metadata": {
    "id": "BRpisccLqPiY",
    "outputId": "3ee7a5d2-269e-4066-ce7e-367310c05c1c"
   },
   "outputs": [
    {
     "data": {
      "text/plain": [
       "str"
      ]
     },
     "execution_count": 11,
     "metadata": {},
     "output_type": "execute_result"
    }
   ],
   "source": [
    "# check type of variable i.e type of it's value \n",
    "type(my_name)"
   ]
  },
  {
   "cell_type": "code",
   "execution_count": 14,
   "metadata": {
    "id": "O7HhJj9GqPiZ",
    "outputId": "cbf5e2e9-cf1f-4566-931a-f111de8a2b06"
   },
   "outputs": [
    {
     "name": "stdout",
     "output_type": "stream",
     "text": [
      "Mayur\n"
     ]
    }
   ],
   "source": [
    "# use single Quotation mark i.e. ' ' for assigning string value to variable\n",
    "myname='Mayur'\n",
    "print(myname) "
   ]
  },
  {
   "cell_type": "code",
   "execution_count": 15,
   "metadata": {
    "id": "1YlMWcseqPiZ",
    "outputId": "68f87c62-9bfb-4bc0-9a17-e56185473e76"
   },
   "outputs": [
    {
     "ename": "SyntaxError",
     "evalue": "EOL while scanning string literal (1412335209.py, line 2)",
     "output_type": "error",
     "traceback": [
      "\u001b[1;36m  Input \u001b[1;32mIn [15]\u001b[1;36m\u001b[0m\n\u001b[1;33m    my_name = \" Mayur '\u001b[0m\n\u001b[1;37m                       ^\u001b[0m\n\u001b[1;31mSyntaxError\u001b[0m\u001b[1;31m:\u001b[0m EOL while scanning string literal\n"
     ]
    }
   ],
   "source": [
    "# but we can use either use single Quotation mark or double Quotation mark at a time, ow it will give an error \n",
    "my_name = \" Mayur '"
   ]
  },
  {
   "cell_type": "code",
   "execution_count": 16,
   "metadata": {
    "id": "7E1mEn30qPia",
    "outputId": "bbd1123c-96ef-4f38-e2e9-b633f614da29"
   },
   "outputs": [
    {
     "name": "stdout",
     "output_type": "stream",
     "text": [
      "I am live in Pune.\n"
     ]
    }
   ],
   "source": [
    "# assign whole statement to single variable \n",
    "place = '''I am live in Pune.'''\n",
    "print(place)"
   ]
  },
  {
   "cell_type": "code",
   "execution_count": 18,
   "metadata": {},
   "outputs": [
    {
     "name": "stdout",
     "output_type": "stream",
     "text": [
      "79\n"
     ]
    },
    {
     "data": {
      "text/plain": [
       "str"
      ]
     },
     "execution_count": 18,
     "metadata": {},
     "output_type": "execute_result"
    }
   ],
   "source": [
    "# whatever we have in single or double or triple qouets always considered as string\n",
    "num1 = '7' \n",
    "num2 = '9'\n",
    "print(num1+num2)\n",
    "type(num1+num2)"
   ]
  },
  {
   "cell_type": "markdown",
   "metadata": {
    "id": "TrSi0qtvqPia"
   },
   "source": [
    "#### 2.3  Assigning numerical value to variable "
   ]
  },
  {
   "cell_type": "markdown",
   "metadata": {
    "id": "hghxH3I9qPib"
   },
   "source": [
    "#### There are two types of numbers \n",
    " 1.  integer :An integer is a number with no decimal or fractional part, from the set of negative and positive numbers,         including zero \n",
    " 2.  float   :A float is a number with a decimal place\n"
   ]
  },
  {
   "cell_type": "code",
   "execution_count": 19,
   "metadata": {
    "id": "sWzpXBmTqPib",
    "outputId": "dfc3c4e5-3f35-447a-bf87-c2d59ca977e3"
   },
   "outputs": [
    {
     "name": "stdout",
     "output_type": "stream",
     "text": [
      "5\n"
     ]
    }
   ],
   "source": [
    "# assign integer number 5 to my_number variable\n",
    "my_number =  5\n",
    "print(my_number)"
   ]
  },
  {
   "cell_type": "code",
   "execution_count": 20,
   "metadata": {
    "id": "80s6Bj_0qPib",
    "outputId": "a8067ef3-06fe-46b1-c5aa-c69817d5ee6e"
   },
   "outputs": [
    {
     "data": {
      "text/plain": [
       "int"
      ]
     },
     "execution_count": 20,
     "metadata": {},
     "output_type": "execute_result"
    }
   ],
   "source": [
    "type(my_number)"
   ]
  },
  {
   "cell_type": "code",
   "execution_count": 21,
   "metadata": {
    "id": "0AiUPwhxqPic",
    "outputId": "ff672052-8144-4942-ab4c-f289f84fa023"
   },
   "outputs": [
    {
     "name": "stdout",
     "output_type": "stream",
     "text": [
      "5.4\n"
     ]
    }
   ],
   "source": [
    "# assign real number 5.4 to my_num variable\n",
    "my_num = 5.4\n",
    "print(my_num)"
   ]
  },
  {
   "cell_type": "code",
   "execution_count": 22,
   "metadata": {
    "id": "XGK8Q8vqqPic",
    "outputId": "6bfe9adf-6c18-4a91-b240-002a55249ab5"
   },
   "outputs": [
    {
     "data": {
      "text/plain": [
       "float"
      ]
     },
     "execution_count": 22,
     "metadata": {},
     "output_type": "execute_result"
    }
   ],
   "source": [
    "type(my_num)"
   ]
  },
  {
   "cell_type": "code",
   "execution_count": null,
   "metadata": {
    "id": "D9rGrAdYqPic",
    "outputId": "3fd6200f-caf0-4617-c9ee-96b57d20daf9"
   },
   "outputs": [],
   "source": [
    "my_num1 = 27.3\n",
    "print(my_num1)"
   ]
  },
  {
   "cell_type": "markdown",
   "metadata": {
    "id": "t6tOGv6NqPic"
   },
   "source": [
    "#### 2.4  We can recall variable name for printing output instead of using print function"
   ]
  },
  {
   "cell_type": "code",
   "execution_count": 23,
   "metadata": {
    "id": "QvQriOP4qPid",
    "outputId": "8a1afdc4-e8e2-4ace-f769-9aadd84952c1"
   },
   "outputs": [
    {
     "data": {
      "text/plain": [
       "'shweta'"
      ]
     },
     "execution_count": 23,
     "metadata": {},
     "output_type": "execute_result"
    }
   ],
   "source": [
    "my_name"
   ]
  },
  {
   "cell_type": "code",
   "execution_count": 24,
   "metadata": {
    "id": "it4LEt-gqPid",
    "outputId": "20a3cb6b-7cb8-4b43-adfd-513ddcef94f8"
   },
   "outputs": [
    {
     "data": {
      "text/plain": [
       "5"
      ]
     },
     "execution_count": 24,
     "metadata": {},
     "output_type": "execute_result"
    }
   ],
   "source": [
    "my_number"
   ]
  },
  {
   "cell_type": "code",
   "execution_count": 25,
   "metadata": {
    "id": "8dWO6JSRqPid",
    "outputId": "99193f9d-b352-4ae8-db8a-8f1562377ba9"
   },
   "outputs": [
    {
     "data": {
      "text/plain": [
       "5"
      ]
     },
     "execution_count": 25,
     "metadata": {},
     "output_type": "execute_result"
    }
   ],
   "source": [
    "# jupyter notebook cell prints last code line \n",
    "my_name\n",
    "my_number"
   ]
  },
  {
   "cell_type": "code",
   "execution_count": 26,
   "metadata": {
    "id": "3rCwPQrXqPid",
    "outputId": "7b0ea60f-d716-4aec-d3e2-686eb556e694"
   },
   "outputs": [
    {
     "name": "stdout",
     "output_type": "stream",
     "text": [
      "shweta\n"
     ]
    },
    {
     "data": {
      "text/plain": [
       "5"
      ]
     },
     "execution_count": 26,
     "metadata": {},
     "output_type": "execute_result"
    }
   ],
   "source": [
    "# if we want print more outputs of same cell then we need to use print function\n",
    "print(my_name)\n",
    "my_number"
   ]
  },
  {
   "cell_type": "code",
   "execution_count": 28,
   "metadata": {},
   "outputs": [
    {
     "ename": "SyntaxError",
     "evalue": "invalid syntax (1646835351.py, line 2)",
     "output_type": "error",
     "traceback": [
      "\u001b[1;36m  Input \u001b[1;32mIn [28]\u001b[1;36m\u001b[0m\n\u001b[1;33m    if = 'shweta'\u001b[0m\n\u001b[1;37m       ^\u001b[0m\n\u001b[1;31mSyntaxError\u001b[0m\u001b[1;31m:\u001b[0m invalid syntax\n"
     ]
    }
   ],
   "source": [
    "# python keywords are not allowded as variable name\n",
    "if = 'shweta'"
   ]
  },
  {
   "cell_type": "markdown",
   "metadata": {},
   "source": [
    "#### 2.5  Multiple Assignments"
   ]
  },
  {
   "cell_type": "code",
   "execution_count": 29,
   "metadata": {},
   "outputs": [
    {
     "name": "stdout",
     "output_type": "stream",
     "text": [
      "10\n",
      "2.57\n",
      "Python Language\n"
     ]
    }
   ],
   "source": [
    "intvar , floatvar , strvar = 10,2.57,\"Python Language\" # Using commas to separate\n",
    "print(intvar)\n",
    "print(floatvar)\n",
    "print(strvar)"
   ]
  },
  {
   "cell_type": "code",
   "execution_count": 30,
   "metadata": {},
   "outputs": [
    {
     "name": "stdout",
     "output_type": "stream",
     "text": [
      "21 21 21 21\n"
     ]
    }
   ],
   "source": [
    "a = b = c = d = 21 # All variables pointing to same value\n",
    "print(a,b,c,d)"
   ]
  },
  {
   "cell_type": "markdown",
   "metadata": {},
   "source": [
    "# Data Types\n",
    "1. Numeric - Float and integer\n",
    "2. String\n",
    "3. Boolean"
   ]
  },
  {
   "cell_type": "code",
   "execution_count": null,
   "metadata": {},
   "outputs": [],
   "source": [
    "# Numeric\n",
    "val1 = 10 # Integer data type\n",
    "val2 = 10.2 # Float data type\n",
    "print(val1)\n",
    "print(val2)"
   ]
  },
  {
   "cell_type": "code",
   "execution_count": null,
   "metadata": {},
   "outputs": [],
   "source": [
    "# Boolean\n",
    "# Boolean data type can have only two possible values true or false.\n",
    "bool1 = True\n",
    "bool2 = False\n",
    "print(bool1)\n",
    "print(bool2)"
   ]
  },
  {
   "cell_type": "code",
   "execution_count": null,
   "metadata": {},
   "outputs": [],
   "source": [
    "# string\n",
    "str1 = \"HELLO PYTHON\"\n",
    "print(str1)"
   ]
  },
  {
   "cell_type": "code",
   "execution_count": null,
   "metadata": {},
   "outputs": [],
   "source": []
  }
 ],
 "metadata": {
  "colab": {
   "name": "Basics of Python.ipynb",
   "provenance": []
  },
  "kernelspec": {
   "display_name": "Python 3 (ipykernel)",
   "language": "python",
   "name": "python3"
  },
  "language_info": {
   "codemirror_mode": {
    "name": "ipython",
    "version": 3
   },
   "file_extension": ".py",
   "mimetype": "text/x-python",
   "name": "python",
   "nbconvert_exporter": "python",
   "pygments_lexer": "ipython3",
   "version": "3.9.12"
  }
 },
 "nbformat": 4,
 "nbformat_minor": 1
}
